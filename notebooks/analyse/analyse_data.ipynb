{
 "cells": [
  {
   "cell_type": "code",
   "execution_count": null,
   "metadata": {},
   "outputs": [],
   "source": [
    "import pandas as pd\n",
    "import os"
   ]
  },
  {
   "cell_type": "code",
   "execution_count": null,
   "metadata": {},
   "outputs": [],
   "source": [
    "DATA_PATH = \"../../data/processed\"\n",
    "MODEL_PATH = \"../../models\"\n",
    "\n",
    "dimensions = [\n",
    "    \"gender\", \n",
    "    \"race\", \n",
    "    \"religion\", \n",
    "    \"nationality\", \n",
    "    \"country\"\n",
    "]\n",
    "\n",
    "tasks = [\n",
    "    \"buzzfeed\",\n",
    "    \"politifact\",\n",
    "    \"twittercovidq2\",\n",
    "    \"clef22\",\n",
    "    \"propaganda\",\n",
    "    \"webis\",\n",
    "    \"pheme\",\n",
    "    \"basil\",\n",
    "    \"shadesoftruth\",\n",
    "    \"fingerprints\",\n",
    "    \"clickbait\",\n",
    "]\n",
    "\n",
    "data_sets = [\n",
    "    \"train\",\n",
    "    \"test\"\n",
    "]"
   ]
  },
  {
   "cell_type": "code",
   "execution_count": null,
   "metadata": {},
   "outputs": [],
   "source": [
    "for dimension in dimensions:\n",
    "    for task in tasks:\n",
    "        for data_set in data_sets:\n",
    "            dataset_path = f\"{DATA_PATH}{os.sep}{dimension}\"\n",
    "            for filename in os.listdir():\n",
    "                df = pd.read_csv(f\"{dataset_path}{os.sep}{task}_{data_set}.csv\")\n",
    "                len_df = df.shape[0]\n",
    "                df.dropna(subset=['entity'], inplace=True)\n",
    "                len_entity_df = df.shape[0]\n",
    "\n",
    "            print(f\"dimension: {dimension}, task: {task}, set: {data_set}, size: {len_df}, entity swapping ratio: {round(len_entity_df*100/len_df, 1)}%\")\n",
    "        print(\"\\n\")"
   ]
  }
 ],
 "metadata": {
  "kernelspec": {
   "display_name": "misinfo_bias",
   "language": "python",
   "name": "python3"
  },
  "language_info": {
   "codemirror_mode": {
    "name": "ipython",
    "version": 3
   },
   "file_extension": ".py",
   "mimetype": "text/x-python",
   "name": "python",
   "nbconvert_exporter": "python",
   "pygments_lexer": "ipython3",
   "version": "3.9.16"
  },
  "orig_nbformat": 4
 },
 "nbformat": 4,
 "nbformat_minor": 2
}
