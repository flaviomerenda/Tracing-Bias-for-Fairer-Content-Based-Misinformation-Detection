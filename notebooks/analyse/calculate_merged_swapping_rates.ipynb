{
 "cells": [
  {
   "cell_type": "code",
   "execution_count": null,
   "metadata": {},
   "outputs": [],
   "source": [
    "import pandas as pd"
   ]
  },
  {
   "cell_type": "code",
   "execution_count": null,
   "metadata": {},
   "outputs": [],
   "source": [
    "DATA_PATH = \"../../data/processed\"\n",
    "\n",
    "dimensions = [\n",
    "    \"gender\", \n",
    "    \"race\", \n",
    "    \"religion\", \n",
    "    \"nationality\", \n",
    "    \"country\"\n",
    "]\n",
    "\n",
    "tasks = [\n",
    "    # \"buzzfeed\",\n",
    "    # \"politifact\",\n",
    "    # \"twittercovidq2\",\n",
    "    # \"clef22\",\n",
    "    \n",
    "    \"propaganda\",\n",
    "    \"webis\",\n",
    "    \"pheme\",\n",
    "    \"basil\",\n",
    "    \"shadesoftruth\",\n",
    "    \"fingerprints\",\n",
    "    \"clickbait\",\n",
    "]\n",
    "\n",
    "data_sets = [\n",
    "    \"train\",\n",
    "    \"test\"\n",
    "]\n"
   ]
  },
  {
   "cell_type": "code",
   "execution_count": null,
   "metadata": {},
   "outputs": [
    {
     "name": "stdout",
     "output_type": "stream",
     "text": [
      "DIMENSION: gender, SET: train, SWAPPING VALUES: 9.0\\% &  44.6\\% &  0.4\\% &  20.5\\% &  13.1\\% &  9.5\\% &  9.7\\%\n",
      "DIMENSION: race, SET: train, SWAPPING VALUES: 0.5\\% &  6.7\\% &  0.8\\% &  0.6\\% &  2.1\\% &  1.7\\% &  0.4\\%\n",
      "DIMENSION: religion, SET: train, SWAPPING VALUES: 2.6\\% &  2.1\\% &  1.5\\% &  0.7\\% &  4.0\\% &  3.0\\% &  0.4\\%\n",
      "DIMENSION: nationality, SET: train, SWAPPING VALUES: 3.6\\% &  5.9\\% &  9.2\\% &  2.7\\% &  8.5\\% &  7.4\\% &  4.0\\%\n",
      "DIMENSION: country, SET: train, SWAPPING VALUES: 8.0\\% &  13.8\\% &  4.8\\% &  3.1\\% &  13.0\\% &  15.8\\% &  6.2\\%\n",
      "\n",
      "\n",
      "DIMENSION: gender, SET: test, SWAPPING VALUES: 9.9\\% &  44.5\\% &  0.6\\% &  21.6\\% &  13.6\\% &  8.8\\% &  9.2\\%\n",
      "DIMENSION: race, SET: test, SWAPPING VALUES: 0.6\\% &  8.4\\% &  0.9\\% &  0.4\\% &  2.4\\% &  1.6\\% &  0.3\\%\n",
      "DIMENSION: religion, SET: test, SWAPPING VALUES: 2.2\\% &  0.9\\% &  1.8\\% &  0.2\\% &  5.1\\% &  2.9\\% &  0.3\\%\n",
      "DIMENSION: nationality, SET: test, SWAPPING VALUES: 5.6\\% &  7.8\\% &  8.8\\% &  2.1\\% &  9.3\\% &  7.7\\% &  4.0\\%\n",
      "DIMENSION: country, SET: test, SWAPPING VALUES: 8.6\\% &  14.3\\% &  4.7\\% &  2.7\\% &  12.4\\% &  15.4\\% &  6.3\\%\n",
      "\n",
      "\n",
      "TASK: clickbait, SET: train, SWAPPING TOTAL: 23.7\\% &  73.1\\% &  16.7\\% &  27.6\\% &  40.7\\% &  37.4\\% &  20.7\\%\n",
      "TASK: clickbait, SET: test, SWAPPING TOTAL: 26.9\\% &  75.9\\% &  16.8\\% &  27.0\\% &  42.8\\% &  36.4\\% &  20.1\\%\n"
     ]
    }
   ],
   "source": [
    "for data_set in data_sets:\n",
    "    for dimension in dimensions:\n",
    "        swapping_values = []\n",
    "        for task in tasks:\n",
    "            dataset_path = f\"{DATA_PATH}/merged/{task}_{data_set}.csv\"\n",
    "            df = pd.read_csv(dataset_path)\n",
    "            sub_df = df.loc[df['dimension'] == dimension]\n",
    "            swapping_value = round(100*len(sub_df)/len(df), 1)\n",
    "            swapping_values.append(str(swapping_value))\n",
    "            str_swapping_values = '\\% &  '.join(swapping_values)+'\\%'\n",
    "        print(f\"DIMENSION: {dimension}, SET: {data_set}, SWAPPING VALUES: {str_swapping_values}\")\n",
    "    print(\"\\n\")\n",
    "\n",
    "\n",
    "for data_set in data_sets:\n",
    "    swapping_total = []\n",
    "    for task in tasks:\n",
    "        swapping_values = []\n",
    "        for dimension in dimensions:\n",
    "            dataset_path = f\"{DATA_PATH}/merged/{task}_{data_set}.csv\"\n",
    "            df = pd.read_csv(dataset_path)\n",
    "            sub_df = df.loc[df['dimension'] == dimension]\n",
    "            swapping_value = round(100*len(sub_df)/len(df), 1)\n",
    "            swapping_values.append(swapping_value)\n",
    "        swapping_total.append(str(round(sum(swapping_values), 1)))\n",
    "    str_swapping_total = '\\% &  '.join(swapping_total)+'\\%'\n",
    "    print(f\"TASK: {task}, SET: {data_set}, SWAPPING TOTAL: {str_swapping_total}\")"
   ]
  }
 ],
 "metadata": {
  "kernelspec": {
   "display_name": "misinfo_bias",
   "language": "python",
   "name": "python3"
  },
  "language_info": {
   "codemirror_mode": {
    "name": "ipython",
    "version": 3
   },
   "file_extension": ".py",
   "mimetype": "text/x-python",
   "name": "python",
   "nbconvert_exporter": "python",
   "pygments_lexer": "ipython3",
   "version": "3.9.16"
  }
 },
 "nbformat": 4,
 "nbformat_minor": 2
}
