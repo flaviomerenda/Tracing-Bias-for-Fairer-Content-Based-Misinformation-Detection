{
 "cells": [
  {
   "cell_type": "code",
   "execution_count": null,
   "metadata": {},
   "outputs": [],
   "source": [
    "import os\n",
    "import numpy as np"
   ]
  },
  {
   "cell_type": "code",
   "execution_count": null,
   "metadata": {},
   "outputs": [],
   "source": [
    "models_name = [\n",
    "    \"bert-base-cased\",\n",
    "    \"roberta-base\",\n",
    "    \"distilbert-base-cased\",\n",
    "    \"microsoft/deberta-base\",\n",
    "    \"facebook/FairBERTa\",\n",
    "]\n",
    "\n",
    "dimensions = [\n",
    "    \"merged\"\n",
    "]\n",
    "\n",
    "tasks = [\n",
    "    # \"buzzfeed\",\n",
    "    # \"politifact\",\n",
    "    # \"twittercovidq2\",\n",
    "    # \"clef22\",\n",
    "    \n",
    "    \"propaganda\",\n",
    "    \"webis\",\n",
    "    \"pheme\",\n",
    "    \"basil\",\n",
    "    \"shadesoftruth\",\n",
    "    \"fingerprints\",\n",
    "    \"clickbait\",\n",
    "]"
   ]
  },
  {
   "cell_type": "code",
   "execution_count": null,
   "metadata": {},
   "outputs": [
    {
     "name": "stdout",
     "output_type": "stream",
     "text": [
      "bert-base-cased - propaganda -> 3.4\n",
      "bert-base-cased - webis -> 1.2\n",
      "bert-base-cased - pheme -> 14.0\n",
      "bert-base-cased - basil -> 4.4\n",
      "bert-base-cased - shadesoftruth -> 2.0\n",
      "bert-base-cased - fingerprints -> 8.9\n",
      "bert-base-cased - clickbait -> 2.6\n",
      "\n",
      "\n",
      "roberta-base - propaganda -> 5.7\n",
      "roberta-base - webis -> 4.5\n",
      "roberta-base - pheme -> 3.5\n",
      "roberta-base - basil -> 4.4\n",
      "roberta-base - shadesoftruth -> 1.3\n",
      "roberta-base - fingerprints -> 9.8\n",
      "roberta-base - clickbait -> 3.4\n",
      "\n",
      "\n",
      "distilbert-base-cased - propaganda -> 4.6\n",
      "distilbert-base-cased - webis -> 2.0\n",
      "distilbert-base-cased - pheme -> 5.3\n",
      "distilbert-base-cased - basil -> 2.8\n",
      "distilbert-base-cased - shadesoftruth -> 3.1\n",
      "distilbert-base-cased - fingerprints -> 7.9\n",
      "distilbert-base-cased - clickbait -> 2.5\n",
      "\n",
      "\n",
      "microsoft/deberta-base - propaganda -> 4.6\n",
      "microsoft/deberta-base - webis -> 6.1\n",
      "microsoft/deberta-base - pheme -> 8.8\n",
      "microsoft/deberta-base - basil -> 4.2\n",
      "microsoft/deberta-base - shadesoftruth -> 1.5\n",
      "microsoft/deberta-base - fingerprints -> 9.3\n",
      "microsoft/deberta-base - clickbait -> 4.4\n",
      "\n",
      "\n",
      "facebook/FairBERTa - propaganda -> 4.6\n",
      "facebook/FairBERTa - webis -> 5.3\n",
      "facebook/FairBERTa - pheme -> 7.0\n",
      "facebook/FairBERTa - basil -> 4.4\n",
      "facebook/FairBERTa - shadesoftruth -> 1.5\n",
      "facebook/FairBERTa - fingerprints -> 9.4\n",
      "facebook/FairBERTa - clickbait -> 2.9\n",
      "\n",
      "\n"
     ]
    }
   ],
   "source": [
    "for model_name in models_name:\n",
    "    for task in tasks:\n",
    "        tot_diff = []\n",
    "        for dimension in dimensions:\n",
    "            try:\n",
    "                vanilla_test_preds = np.load(f'../data/interim/predictions{os.sep}{model_name}{os.sep}vanilla{os.sep}{dimension}{os.sep}{task}{os.sep}unperturbed.npy')\n",
    "                perturbed_test_preds = np.load(f'../data/interim/predictions{os.sep}{model_name}{os.sep}vanilla{os.sep}{dimension}{os.sep}{task}{os.sep}perturbed.npy')\n",
    "            except:\n",
    "                print(f\"NO DATA FOR: {model_name} - {dimension} - {task}\")\n",
    "\n",
    "            tot = len(vanilla_test_preds)\n",
    "                  \n",
    "            assert len(vanilla_test_preds) == len(perturbed_test_preds)\n",
    "            same, diff = 0, 0\n",
    "\n",
    "            for van_pred, dim_pred in zip(vanilla_test_preds, perturbed_test_preds):\n",
    "                if van_pred == dim_pred:\n",
    "                    same += 1\n",
    "                else:\n",
    "                    diff += 1\n",
    "\n",
    "            assert same+diff == tot\n",
    "\n",
    "            tot_diff.append(diff*100/tot)\n",
    "        print(f\"{model_name} - {task} -> {round(sum(tot_diff) / len(tot_diff), 1) }\")\n",
    "    print(\"\\n\")\n",
    "        "
   ]
  }
 ],
 "metadata": {
  "kernelspec": {
   "display_name": "misinfo_bias",
   "language": "python",
   "name": "python3"
  },
  "language_info": {
   "codemirror_mode": {
    "name": "ipython",
    "version": 3
   },
   "file_extension": ".py",
   "mimetype": "text/x-python",
   "name": "python",
   "nbconvert_exporter": "python",
   "pygments_lexer": "ipython3",
   "version": "3.9.16"
  },
  "orig_nbformat": 4
 },
 "nbformat": 4,
 "nbformat_minor": 2
}
