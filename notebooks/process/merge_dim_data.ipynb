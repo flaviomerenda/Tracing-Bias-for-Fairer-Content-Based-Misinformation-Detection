{
 "cells": [
  {
   "cell_type": "code",
   "execution_count": null,
   "metadata": {},
   "outputs": [],
   "source": [
    "import pandas as pd\n",
    "import os"
   ]
  },
  {
   "cell_type": "code",
   "execution_count": null,
   "metadata": {},
   "outputs": [],
   "source": [
    "DATA_PATH = \"../../data/processed\"\n",
    "\n",
    "dimensions = [\n",
    "    \"gender\", \n",
    "    \"race\", \n",
    "    \"religion\", \n",
    "    \"nationality\", \n",
    "    \"country\"\n",
    "]\n",
    "\n",
    "tasks = [\n",
    "    # \"buzzfeed\",\n",
    "    # \"politifact\",\n",
    "    # \"twittercovidq2\",\n",
    "    # \"clef22\",\n",
    "    \n",
    "    \"propaganda\",\n",
    "    \"webis\",\n",
    "    \"pheme\",\n",
    "    \"basil\",\n",
    "    \"shadesoftruth\",\n",
    "    \"fingerprints\",\n",
    "    \"clickbait\",\n",
    "]\n",
    "\n",
    "data_sets = [\n",
    "    \"train\",\n",
    "    \"test\"\n",
    "]"
   ]
  },
  {
   "cell_type": "code",
   "execution_count": null,
   "metadata": {},
   "outputs": [],
   "source": [
    "for task in tasks:\n",
    "    for data_set in data_sets:\n",
    "        van_df = pd.read_csv(f\"{DATA_PATH}{os.sep}vanilla{os.sep}{task}_{data_set}.csv\")\n",
    "        van_df2list = van_df.to_dict('records')\n",
    "        for dimension in dimensions:\n",
    "            dataset_path = f\"{DATA_PATH}{os.sep}{dimension}\"\n",
    "            pert_df = pd.read_csv(f\"{dataset_path}{os.sep}{task}_{data_set}.csv\")\n",
    "            pert_df2list = pert_df.to_dict('records')\n",
    "            for (idx, van_item), pert_item in zip(enumerate(van_df2list), pert_df2list):\n",
    "                if pd.isna(pert_item[\"entity\"]):\n",
    "                    van_df2list[idx] = van_item\n",
    "                else:\n",
    "                    pert_item[\"dimension\"] = dimension\n",
    "                    van_df2list[idx] = pert_item\n",
    "\n",
    "        for (idx, van_item) in enumerate(van_df2list):\n",
    "            if van_item.get(\"perturbed_text\", None) == None:\n",
    "                van_item[\"perturbed_text\"] = van_item[\"text\"]\n",
    "\n",
    "        df = pd.DataFrame(van_df2list)\n",
    "        print(f\"task: {task}, set: {data_set}, samples: {len(df)}, swap_rate: {round(100*df['dimension'].value_counts().sum()/len(df), 1)}\")\n",
    "        df.to_csv(f\"{DATA_PATH}{os.sep}merged{os.sep}{task}_{data_set}.csv\", index=False, header=True, encoding=\"utf-8\")\n"
   ]
  }
 ],
 "metadata": {
  "kernelspec": {
   "display_name": "misinfo_bias",
   "language": "python",
   "name": "python3"
  },
  "language_info": {
   "codemirror_mode": {
    "name": "ipython",
    "version": 3
   },
   "file_extension": ".py",
   "mimetype": "text/x-python",
   "name": "python",
   "nbconvert_exporter": "python",
   "pygments_lexer": "ipython3",
   "version": "3.9.16"
  }
 },
 "nbformat": 4,
 "nbformat_minor": 2
}
