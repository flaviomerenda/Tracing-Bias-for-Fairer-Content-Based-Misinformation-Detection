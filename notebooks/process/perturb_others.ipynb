{
 "cells": [
  {
   "cell_type": "code",
   "execution_count": 1,
   "metadata": {},
   "outputs": [],
   "source": [
    "from transformers import BartTokenizer\n",
    "from tqdm import tqdm\n",
    "\n",
    "import pandas as pd\n",
    "import spacy\n",
    "import os\n",
    "import re"
   ]
  },
  {
   "cell_type": "code",
   "execution_count": 2,
   "metadata": {},
   "outputs": [],
   "source": [
    "nlp = spacy.load(\"en_core_web_sm\")\n",
    "tokenizer = BartTokenizer.from_pretrained(\"facebook/perturber\")"
   ]
  },
  {
   "cell_type": "code",
   "execution_count": 3,
   "metadata": {},
   "outputs": [],
   "source": [
    "dimensions = [\"nationality\", \"country\", \"religion\"]\n",
    "entity_types = [\"NORP\", \"GPE\"]"
   ]
  },
  {
   "cell_type": "code",
   "execution_count": null,
   "metadata": {},
   "outputs": [],
   "source": [
    "RAW_PATH = \"../../data/raw\"\n",
    "PROCESSED_PATH = \"../../data/processed\""
   ]
  },
  {
   "cell_type": "code",
   "execution_count": 5,
   "metadata": {},
   "outputs": [],
   "source": [
    "def preprocess_text(text, target_entities):\n",
    "    target_key = target_entities.keys()[0]\n",
    "\n",
    "    entity_to_substitute = None\n",
    "    # Create Doc object\n",
    "    doc2 = nlp(text)\n",
    "    # Identify the entities\n",
    "    entities = [ent.text for ent in doc2.ents if ent.label_ in entity_types]\n",
    "    # print(\"entities: \", entities)\n",
    "    if entities:\n",
    "        matched_entities = []\n",
    "        for entity in entities:\n",
    "            if any(entity.lower() in token.lower() for token in target_entities[target_key].to_list()):\n",
    "                matched_entities.append(entity)\n",
    "        if matched_entities:\n",
    "            # print(\"matched_ entities: \", matched_entities[0])\n",
    "            entity_to_substitute = matched_entities[0]\n",
    "    return entity_to_substitute"
   ]
  },
  {
   "cell_type": "code",
   "execution_count": 6,
   "metadata": {},
   "outputs": [],
   "source": [
    "def replace_entity(text, entity, df, search_column, return_column):\n",
    "    # Check if the substring is present in the search column\n",
    "    mask = df[search_column].str.contains(entity.capitalize())\n",
    "\n",
    "    # If a match is found, return the corresponding value from the return column\n",
    "    if mask.any():\n",
    "        swap_entity = df.loc[mask, return_column].iloc[0]\n",
    "        regex = f\"([A-Z]([a-z]+|\\.)\\s*)*{entity.split(' ')[-1]}\"\n",
    "        text = re.sub(r''+regex, swap_entity, text)\n",
    "    return text"
   ]
  },
  {
   "cell_type": "code",
   "execution_count": 7,
   "metadata": {},
   "outputs": [],
   "source": [
    "data_paths = []\n",
    "for path in os.walk(RAW_PATH):\n",
    "    for file in path[2]:\n",
    "        if file.endswith(\"test.csv\") or file.endswith(\"train.csv\"):\n",
    "            data_paths.append(f\"{path[0]}{os.sep}{file}\")"
   ]
  },
  {
   "cell_type": "code",
   "execution_count": 8,
   "metadata": {},
   "outputs": [],
   "source": [
    "def batches(sents, batch_size):\n",
    "    for i in range(0, len(sents), batch_size):\n",
    "        yield sents[i : i + batch_size]"
   ]
  },
  {
   "cell_type": "code",
   "execution_count": null,
   "metadata": {},
   "outputs": [
    {
     "name": "stdout",
     "output_type": "stream",
     "text": [
      "Processing ../data/raw/fingerprints copy/fingerprints_train.csv\n",
      "Truncating texts...\n",
      "...texts truncated!\n",
      "Etracting entities...\n",
      "...entities extracted!\n",
      "Perturbating texts...\n"
     ]
    },
    {
     "name": "stderr",
     "output_type": "stream",
     "text": [
      "100%|██████████| 13200/13200 [00:00<00:00, 16383.82it/s]\n"
     ]
    },
    {
     "name": "stdout",
     "output_type": "stream",
     "text": [
      "...texts perturbated!\n",
      "../data/processed/nationality/fingerprints_train.csv created\n",
      "\n",
      "\n",
      "Processing ../data/raw/fingerprints copy/fingerprints_test.csv\n",
      "Truncating texts...\n",
      "...texts truncated!\n",
      "Etracting entities...\n",
      "...entities extracted!\n",
      "Perturbating texts...\n"
     ]
    },
    {
     "name": "stderr",
     "output_type": "stream",
     "text": [
      "100%|██████████| 3300/3300 [00:00<00:00, 16942.12it/s]"
     ]
    },
    {
     "name": "stdout",
     "output_type": "stream",
     "text": [
      "...texts perturbated!\n"
     ]
    },
    {
     "name": "stderr",
     "output_type": "stream",
     "text": [
      "\n"
     ]
    },
    {
     "name": "stdout",
     "output_type": "stream",
     "text": [
      "../data/processed/nationality/fingerprints_test.csv created\n",
      "\n",
      "\n",
      "Processing ../data/raw/clef22 copy/clef22_train.csv\n",
      "Truncating texts...\n",
      "...texts truncated!\n",
      "Etracting entities...\n",
      "...entities extracted!\n",
      "Perturbating texts...\n"
     ]
    },
    {
     "name": "stderr",
     "output_type": "stream",
     "text": [
      "100%|██████████| 720/720 [00:00<00:00, 21874.77it/s]"
     ]
    },
    {
     "name": "stdout",
     "output_type": "stream",
     "text": [
      "...texts perturbated!\n",
      "../data/processed/nationality/clef22_train.csv created\n",
      "\n",
      "\n",
      "Processing ../data/raw/clef22 copy/clef22_test.csv\n",
      "Truncating texts...\n"
     ]
    },
    {
     "name": "stderr",
     "output_type": "stream",
     "text": [
      "\n"
     ]
    },
    {
     "name": "stdout",
     "output_type": "stream",
     "text": [
      "...texts truncated!\n",
      "Etracting entities...\n",
      "...entities extracted!\n",
      "Perturbating texts...\n"
     ]
    },
    {
     "name": "stderr",
     "output_type": "stream",
     "text": [
      "100%|██████████| 180/180 [00:00<00:00, 13164.57it/s]"
     ]
    },
    {
     "name": "stdout",
     "output_type": "stream",
     "text": [
      "...texts perturbated!\n",
      "../data/processed/nationality/clef22_test.csv created\n",
      "\n",
      "\n",
      "Processing ../data/raw/unifiedm2/twittercovidq2_test.csv\n",
      "Truncating texts...\n",
      "...texts truncated!\n",
      "Etracting entities...\n"
     ]
    },
    {
     "name": "stderr",
     "output_type": "stream",
     "text": [
      "\n"
     ]
    },
    {
     "name": "stdout",
     "output_type": "stream",
     "text": [
      "...entities extracted!\n",
      "Perturbating texts...\n"
     ]
    },
    {
     "name": "stderr",
     "output_type": "stream",
     "text": [
      "100%|██████████| 52/52 [00:00<00:00, 19326.88it/s]"
     ]
    },
    {
     "name": "stdout",
     "output_type": "stream",
     "text": [
      "...texts perturbated!\n",
      "../data/processed/nationality/twittercovidq2_test.csv created\n",
      "\n",
      "\n",
      "Processing ../data/raw/unifiedm2/basil_train.csv\n",
      "Truncating texts...\n"
     ]
    },
    {
     "name": "stderr",
     "output_type": "stream",
     "text": [
      "\n"
     ]
    },
    {
     "name": "stdout",
     "output_type": "stream",
     "text": [
      "...texts truncated!\n",
      "Etracting entities...\n",
      "...entities extracted!\n",
      "Perturbating texts...\n"
     ]
    },
    {
     "name": "stderr",
     "output_type": "stream",
     "text": [
      "100%|██████████| 6367/6367 [00:00<00:00, 59890.28it/s]"
     ]
    },
    {
     "name": "stdout",
     "output_type": "stream",
     "text": [
      "...texts perturbated!\n",
      "../data/processed/nationality/basil_train.csv created\n",
      "\n",
      "\n"
     ]
    },
    {
     "name": "stderr",
     "output_type": "stream",
     "text": [
      "\n"
     ]
    },
    {
     "name": "stdout",
     "output_type": "stream",
     "text": [
      "Processing ../data/raw/unifiedm2/clickbait_test.csv\n",
      "Truncating texts...\n",
      "...texts truncated!\n",
      "Etracting entities...\n",
      "...entities extracted!\n",
      "Perturbating texts...\n"
     ]
    },
    {
     "name": "stderr",
     "output_type": "stream",
     "text": [
      "100%|██████████| 3812/3812 [00:00<00:00, 45835.18it/s]"
     ]
    },
    {
     "name": "stdout",
     "output_type": "stream",
     "text": [
      "...texts perturbated!\n",
      "../data/processed/nationality/clickbait_test.csv created\n",
      "\n",
      "\n",
      "Processing ../data/raw/unifiedm2/basil_test.csv\n",
      "Truncating texts...\n"
     ]
    },
    {
     "name": "stderr",
     "output_type": "stream",
     "text": [
      "\n"
     ]
    },
    {
     "name": "stdout",
     "output_type": "stream",
     "text": [
      "...texts truncated!\n",
      "Etracting entities...\n",
      "...entities extracted!\n",
      "Perturbating texts...\n"
     ]
    },
    {
     "name": "stderr",
     "output_type": "stream",
     "text": [
      "100%|██████████| 1592/1592 [00:00<00:00, 71726.00it/s]"
     ]
    },
    {
     "name": "stdout",
     "output_type": "stream",
     "text": [
      "...texts perturbated!\n",
      "../data/processed/nationality/basil_test.csv created\n",
      "\n",
      "\n",
      "Processing ../data/raw/unifiedm2/politifact_train.csv\n",
      "Truncating texts...\n"
     ]
    },
    {
     "name": "stderr",
     "output_type": "stream",
     "text": [
      "\n"
     ]
    },
    {
     "name": "stdout",
     "output_type": "stream",
     "text": [
      "...texts truncated!\n",
      "Etracting entities...\n",
      "...entities extracted!\n",
      "Perturbating texts...\n"
     ]
    },
    {
     "name": "stderr",
     "output_type": "stream",
     "text": [
      "100%|██████████| 162/162 [00:00<00:00, 13220.69it/s]"
     ]
    },
    {
     "name": "stdout",
     "output_type": "stream",
     "text": [
      "...texts perturbated!\n",
      "../data/processed/nationality/politifact_train.csv created\n",
      "\n",
      "\n"
     ]
    },
    {
     "name": "stderr",
     "output_type": "stream",
     "text": [
      "\n"
     ]
    },
    {
     "name": "stdout",
     "output_type": "stream",
     "text": [
      "Processing ../data/raw/unifiedm2/webis_train.csv\n",
      "Truncating texts...\n",
      "...texts truncated!\n",
      "Etracting entities...\n",
      "...entities extracted!\n",
      "Perturbating texts...\n"
     ]
    },
    {
     "name": "stderr",
     "output_type": "stream",
     "text": [
      "100%|██████████| 1283/1283 [00:00<00:00, 18164.88it/s]"
     ]
    },
    {
     "name": "stdout",
     "output_type": "stream",
     "text": [
      "...texts perturbated!\n",
      "../data/processed/nationality/webis_train.csv created\n",
      "\n",
      "\n",
      "Processing ../data/raw/unifiedm2/buzzfeed_train.csv\n",
      "Truncating texts...\n"
     ]
    },
    {
     "name": "stderr",
     "output_type": "stream",
     "text": [
      "\n"
     ]
    },
    {
     "name": "stdout",
     "output_type": "stream",
     "text": [
      "...texts truncated!\n",
      "Etracting entities...\n",
      "...entities extracted!\n",
      "Perturbating texts...\n"
     ]
    },
    {
     "name": "stderr",
     "output_type": "stream",
     "text": [
      "100%|██████████| 136/136 [00:00<00:00, 74332.21it/s]"
     ]
    },
    {
     "name": "stdout",
     "output_type": "stream",
     "text": [
      "...texts perturbated!\n",
      "../data/processed/nationality/buzzfeed_train.csv created\n",
      "\n",
      "\n",
      "Processing ../data/raw/unifiedm2/twittercovidq2_train.csv\n",
      "Truncating texts...\n"
     ]
    },
    {
     "name": "stderr",
     "output_type": "stream",
     "text": [
      "\n"
     ]
    },
    {
     "name": "stdout",
     "output_type": "stream",
     "text": [
      "...texts truncated!\n",
      "Etracting entities...\n",
      "...entities extracted!\n",
      "Perturbating texts...\n"
     ]
    },
    {
     "name": "stderr",
     "output_type": "stream",
     "text": [
      "100%|██████████| 208/208 [00:00<00:00, 25197.56it/s]"
     ]
    },
    {
     "name": "stdout",
     "output_type": "stream",
     "text": [
      "...texts perturbated!\n",
      "../data/processed/nationality/twittercovidq2_train.csv created\n",
      "\n",
      "\n",
      "Processing ../data/raw/unifiedm2/propaganda_train.csv\n",
      "Truncating texts...\n"
     ]
    },
    {
     "name": "stderr",
     "output_type": "stream",
     "text": [
      "\n"
     ]
    },
    {
     "name": "stdout",
     "output_type": "stream",
     "text": [
      "...texts truncated!\n",
      "Etracting entities...\n",
      "...entities extracted!\n",
      "Perturbating texts...\n"
     ]
    },
    {
     "name": "stderr",
     "output_type": "stream",
     "text": [
      "100%|██████████| 1294/1294 [00:00<00:00, 35893.09it/s]"
     ]
    },
    {
     "name": "stdout",
     "output_type": "stream",
     "text": [
      "...texts perturbated!\n",
      "../data/processed/nationality/propaganda_train.csv created\n",
      "\n",
      "\n",
      "Processing ../data/raw/unifiedm2/buzzfeed_test.csv\n",
      "Truncating texts...\n",
      "...texts truncated!\n",
      "Etracting entities...\n"
     ]
    },
    {
     "name": "stderr",
     "output_type": "stream",
     "text": [
      "\n"
     ]
    },
    {
     "name": "stdout",
     "output_type": "stream",
     "text": [
      "...entities extracted!\n",
      "Perturbating texts...\n"
     ]
    },
    {
     "name": "stderr",
     "output_type": "stream",
     "text": [
      "100%|██████████| 34/34 [00:00<00:00, 69394.81it/s]"
     ]
    },
    {
     "name": "stdout",
     "output_type": "stream",
     "text": [
      "...texts perturbated!\n",
      "../data/processed/nationality/buzzfeed_test.csv created\n",
      "\n",
      "\n",
      "Processing ../data/raw/unifiedm2/propaganda_test.csv\n",
      "Truncating texts...\n"
     ]
    },
    {
     "name": "stderr",
     "output_type": "stream",
     "text": [
      "\n"
     ]
    },
    {
     "name": "stdout",
     "output_type": "stream",
     "text": [
      "...texts truncated!\n",
      "Etracting entities...\n",
      "...entities extracted!\n",
      "Perturbating texts...\n"
     ]
    },
    {
     "name": "stderr",
     "output_type": "stream",
     "text": [
      "100%|██████████| 324/324 [00:00<00:00, 28533.88it/s]"
     ]
    },
    {
     "name": "stdout",
     "output_type": "stream",
     "text": [
      "...texts perturbated!\n",
      "../data/processed/nationality/propaganda_test.csv created\n",
      "\n",
      "\n",
      "Processing ../data/raw/unifiedm2/pheme_train.csv\n",
      "Truncating texts...\n"
     ]
    },
    {
     "name": "stderr",
     "output_type": "stream",
     "text": [
      "\n"
     ]
    },
    {
     "name": "stdout",
     "output_type": "stream",
     "text": [
      "...texts truncated!\n",
      "Etracting entities...\n",
      "...entities extracted!\n",
      "Perturbating texts...\n"
     ]
    },
    {
     "name": "stderr",
     "output_type": "stream",
     "text": [
      "100%|██████████| 1364/1364 [00:00<00:00, 32007.02it/s]"
     ]
    },
    {
     "name": "stdout",
     "output_type": "stream",
     "text": [
      "...texts perturbated!\n",
      "../data/processed/nationality/pheme_train.csv created\n",
      "\n",
      "\n",
      "Processing ../data/raw/unifiedm2/pheme_test.csv\n",
      "Truncating texts...\n"
     ]
    },
    {
     "name": "stderr",
     "output_type": "stream",
     "text": [
      "\n"
     ]
    },
    {
     "name": "stdout",
     "output_type": "stream",
     "text": [
      "...texts truncated!\n",
      "Etracting entities...\n",
      "...entities extracted!\n",
      "Perturbating texts...\n"
     ]
    },
    {
     "name": "stderr",
     "output_type": "stream",
     "text": [
      "100%|██████████| 341/341 [00:00<00:00, 32322.21it/s]"
     ]
    },
    {
     "name": "stdout",
     "output_type": "stream",
     "text": [
      "...texts perturbated!\n",
      "../data/processed/nationality/pheme_test.csv created\n",
      "\n",
      "\n",
      "Processing ../data/raw/unifiedm2/webis_test.csv\n",
      "Truncating texts...\n"
     ]
    },
    {
     "name": "stderr",
     "output_type": "stream",
     "text": [
      "\n"
     ]
    },
    {
     "name": "stdout",
     "output_type": "stream",
     "text": [
      "...texts truncated!\n",
      "Etracting entities...\n",
      "...entities extracted!\n",
      "Perturbating texts...\n"
     ]
    },
    {
     "name": "stderr",
     "output_type": "stream",
     "text": [
      "100%|██████████| 321/321 [00:00<00:00, 15401.89it/s]"
     ]
    },
    {
     "name": "stdout",
     "output_type": "stream",
     "text": [
      "...texts perturbated!\n",
      "../data/processed/nationality/webis_test.csv created\n",
      "\n",
      "\n",
      "Processing ../data/raw/unifiedm2/clickbait_train.csv\n",
      "Truncating texts...\n"
     ]
    },
    {
     "name": "stderr",
     "output_type": "stream",
     "text": [
      "\n"
     ]
    },
    {
     "name": "stdout",
     "output_type": "stream",
     "text": [
      "...texts truncated!\n",
      "Etracting entities...\n",
      "...entities extracted!\n",
      "Perturbating texts...\n"
     ]
    },
    {
     "name": "stderr",
     "output_type": "stream",
     "text": [
      "100%|██████████| 15244/15244 [00:00<00:00, 46791.47it/s]\n"
     ]
    },
    {
     "name": "stdout",
     "output_type": "stream",
     "text": [
      "...texts perturbated!\n",
      "../data/processed/nationality/clickbait_train.csv created\n",
      "\n",
      "\n",
      "Processing ../data/raw/unifiedm2/politifact_test.csv\n",
      "Truncating texts...\n",
      "...texts truncated!\n",
      "Etracting entities...\n",
      "...entities extracted!\n",
      "Perturbating texts...\n"
     ]
    },
    {
     "name": "stderr",
     "output_type": "stream",
     "text": [
      "100%|██████████| 40/40 [00:00<00:00, 11994.01it/s]"
     ]
    },
    {
     "name": "stdout",
     "output_type": "stream",
     "text": [
      "...texts perturbated!\n",
      "../data/processed/nationality/politifact_test.csv created\n",
      "\n",
      "\n"
     ]
    },
    {
     "name": "stderr",
     "output_type": "stream",
     "text": [
      "\n"
     ]
    },
    {
     "name": "stdout",
     "output_type": "stream",
     "text": [
      "Processing ../data/raw/shadesoftruth copy/shadesoftruth_test.csv\n",
      "Truncating texts...\n",
      "...texts truncated!\n",
      "Etracting entities...\n",
      "...entities extracted!\n",
      "Perturbating texts...\n"
     ]
    },
    {
     "name": "stderr",
     "output_type": "stream",
     "text": [
      "100%|██████████| 1600/1600 [00:00<00:00, 16046.81it/s]"
     ]
    },
    {
     "name": "stdout",
     "output_type": "stream",
     "text": [
      "...texts perturbated!\n",
      "../data/processed/nationality/shadesoftruth_test.csv created\n",
      "\n",
      "\n"
     ]
    },
    {
     "name": "stderr",
     "output_type": "stream",
     "text": [
      "\n"
     ]
    },
    {
     "name": "stdout",
     "output_type": "stream",
     "text": [
      "Processing ../data/raw/shadesoftruth copy/shadesoftruth_train.csv\n",
      "Truncating texts...\n",
      "...texts truncated!\n",
      "Etracting entities...\n",
      "...entities extracted!\n",
      "Perturbating texts...\n"
     ]
    },
    {
     "name": "stderr",
     "output_type": "stream",
     "text": [
      "100%|██████████| 6400/6400 [00:00<00:00, 16391.96it/s]\n"
     ]
    },
    {
     "name": "stdout",
     "output_type": "stream",
     "text": [
      "...texts perturbated!\n",
      "../data/processed/nationality/shadesoftruth_train.csv created\n",
      "\n",
      "\n",
      "Processing ../data/raw/fingerprints copy/fingerprints_train.csv\n",
      "Truncating texts...\n",
      "...texts truncated!\n",
      "Etracting entities...\n",
      "...entities extracted!\n",
      "Perturbating texts...\n"
     ]
    },
    {
     "name": "stderr",
     "output_type": "stream",
     "text": [
      "100%|██████████| 13200/13200 [00:00<00:00, 23385.55it/s]\n"
     ]
    },
    {
     "name": "stdout",
     "output_type": "stream",
     "text": [
      "...texts perturbated!\n",
      "../data/processed/country/fingerprints_train.csv created\n",
      "\n",
      "\n",
      "Processing ../data/raw/fingerprints copy/fingerprints_test.csv\n",
      "Truncating texts...\n",
      "...texts truncated!\n",
      "Etracting entities...\n",
      "...entities extracted!\n",
      "Perturbating texts...\n"
     ]
    },
    {
     "name": "stderr",
     "output_type": "stream",
     "text": [
      "100%|██████████| 3300/3300 [00:00<00:00, 24127.47it/s]"
     ]
    },
    {
     "name": "stdout",
     "output_type": "stream",
     "text": [
      "...texts perturbated!\n"
     ]
    },
    {
     "name": "stderr",
     "output_type": "stream",
     "text": [
      "\n"
     ]
    },
    {
     "name": "stdout",
     "output_type": "stream",
     "text": [
      "../data/processed/country/fingerprints_test.csv created\n",
      "\n",
      "\n",
      "Processing ../data/raw/clef22 copy/clef22_train.csv\n",
      "Truncating texts...\n",
      "...texts truncated!\n",
      "Etracting entities...\n",
      "...entities extracted!\n",
      "Perturbating texts...\n"
     ]
    },
    {
     "name": "stderr",
     "output_type": "stream",
     "text": [
      "100%|██████████| 720/720 [00:00<00:00, 24913.37it/s]"
     ]
    },
    {
     "name": "stdout",
     "output_type": "stream",
     "text": [
      "...texts perturbated!\n",
      "../data/processed/country/clef22_train.csv created\n",
      "\n",
      "\n",
      "Processing ../data/raw/clef22 copy/clef22_test.csv\n",
      "Truncating texts...\n"
     ]
    },
    {
     "name": "stderr",
     "output_type": "stream",
     "text": [
      "\n"
     ]
    },
    {
     "name": "stdout",
     "output_type": "stream",
     "text": [
      "...texts truncated!\n",
      "Etracting entities...\n",
      "...entities extracted!\n",
      "Perturbating texts...\n"
     ]
    },
    {
     "name": "stderr",
     "output_type": "stream",
     "text": [
      "100%|██████████| 180/180 [00:00<00:00, 19304.87it/s]"
     ]
    },
    {
     "name": "stdout",
     "output_type": "stream",
     "text": [
      "...texts perturbated!\n",
      "../data/processed/country/clef22_test.csv created\n",
      "\n",
      "\n",
      "Processing ../data/raw/unifiedm2/twittercovidq2_test.csv\n",
      "Truncating texts...\n",
      "...texts truncated!\n",
      "Etracting entities...\n"
     ]
    },
    {
     "name": "stderr",
     "output_type": "stream",
     "text": [
      "\n"
     ]
    },
    {
     "name": "stdout",
     "output_type": "stream",
     "text": [
      "...entities extracted!\n",
      "Perturbating texts...\n"
     ]
    },
    {
     "name": "stderr",
     "output_type": "stream",
     "text": [
      "100%|██████████| 52/52 [00:00<00:00, 19207.73it/s]"
     ]
    },
    {
     "name": "stdout",
     "output_type": "stream",
     "text": [
      "...texts perturbated!\n",
      "../data/processed/country/twittercovidq2_test.csv created\n",
      "\n",
      "\n",
      "Processing ../data/raw/unifiedm2/basil_train.csv\n",
      "Truncating texts...\n"
     ]
    },
    {
     "name": "stderr",
     "output_type": "stream",
     "text": [
      "\n"
     ]
    },
    {
     "name": "stdout",
     "output_type": "stream",
     "text": [
      "...texts truncated!\n",
      "Etracting entities...\n",
      "...entities extracted!\n",
      "Perturbating texts...\n"
     ]
    },
    {
     "name": "stderr",
     "output_type": "stream",
     "text": [
      "100%|██████████| 6367/6367 [00:00<00:00, 113050.52it/s]"
     ]
    },
    {
     "name": "stdout",
     "output_type": "stream",
     "text": [
      "...texts perturbated!\n",
      "../data/processed/country/basil_train.csv created\n",
      "\n",
      "\n",
      "Processing ../data/raw/unifiedm2/clickbait_test.csv\n",
      "Truncating texts...\n"
     ]
    },
    {
     "name": "stderr",
     "output_type": "stream",
     "text": [
      "\n"
     ]
    },
    {
     "name": "stdout",
     "output_type": "stream",
     "text": [
      "...texts truncated!\n",
      "Etracting entities...\n",
      "...entities extracted!\n",
      "Perturbating texts...\n"
     ]
    },
    {
     "name": "stderr",
     "output_type": "stream",
     "text": [
      "100%|██████████| 3812/3812 [00:00<00:00, 62436.05it/s]"
     ]
    },
    {
     "name": "stdout",
     "output_type": "stream",
     "text": [
      "...texts perturbated!\n",
      "../data/processed/country/clickbait_test.csv created\n",
      "\n",
      "\n",
      "Processing ../data/raw/unifiedm2/basil_test.csv\n",
      "Truncating texts...\n"
     ]
    },
    {
     "name": "stderr",
     "output_type": "stream",
     "text": [
      "\n"
     ]
    },
    {
     "name": "stdout",
     "output_type": "stream",
     "text": [
      "...texts truncated!\n",
      "Etracting entities...\n",
      "...entities extracted!\n",
      "Perturbating texts...\n"
     ]
    },
    {
     "name": "stderr",
     "output_type": "stream",
     "text": [
      "100%|██████████| 1592/1592 [00:00<00:00, 128563.52it/s]"
     ]
    },
    {
     "name": "stdout",
     "output_type": "stream",
     "text": [
      "...texts perturbated!\n",
      "../data/processed/country/basil_test.csv created\n",
      "\n",
      "\n",
      "Processing ../data/raw/unifiedm2/politifact_train.csv\n",
      "Truncating texts...\n"
     ]
    },
    {
     "name": "stderr",
     "output_type": "stream",
     "text": [
      "\n"
     ]
    },
    {
     "name": "stdout",
     "output_type": "stream",
     "text": [
      "...texts truncated!\n",
      "Etracting entities...\n",
      "...entities extracted!\n",
      "Perturbating texts...\n"
     ]
    },
    {
     "name": "stderr",
     "output_type": "stream",
     "text": [
      "100%|██████████| 162/162 [00:00<00:00, 17403.75it/s]"
     ]
    },
    {
     "name": "stdout",
     "output_type": "stream",
     "text": [
      "...texts perturbated!\n",
      "../data/processed/country/politifact_train.csv created\n",
      "\n",
      "\n",
      "Processing ../data/raw/unifiedm2/webis_train.csv\n",
      "Truncating texts...\n"
     ]
    },
    {
     "name": "stderr",
     "output_type": "stream",
     "text": [
      "\n"
     ]
    },
    {
     "name": "stdout",
     "output_type": "stream",
     "text": [
      "...texts truncated!\n",
      "Etracting entities...\n",
      "...entities extracted!\n",
      "Perturbating texts...\n"
     ]
    },
    {
     "name": "stderr",
     "output_type": "stream",
     "text": [
      "100%|██████████| 1283/1283 [00:00<00:00, 26621.08it/s]"
     ]
    },
    {
     "name": "stdout",
     "output_type": "stream",
     "text": [
      "...texts perturbated!\n",
      "../data/processed/country/webis_train.csv created\n",
      "\n",
      "\n",
      "Processing ../data/raw/unifiedm2/buzzfeed_train.csv\n",
      "Truncating texts...\n",
      "...texts truncated!\n",
      "Etracting entities...\n"
     ]
    },
    {
     "name": "stderr",
     "output_type": "stream",
     "text": [
      "\n"
     ]
    },
    {
     "name": "stdout",
     "output_type": "stream",
     "text": [
      "...entities extracted!\n",
      "Perturbating texts...\n"
     ]
    },
    {
     "name": "stderr",
     "output_type": "stream",
     "text": [
      "100%|██████████| 136/136 [00:00<00:00, 98706.58it/s]"
     ]
    },
    {
     "name": "stdout",
     "output_type": "stream",
     "text": [
      "...texts perturbated!\n",
      "../data/processed/country/buzzfeed_train.csv created\n",
      "\n",
      "\n",
      "Processing ../data/raw/unifiedm2/twittercovidq2_train.csv\n",
      "Truncating texts...\n"
     ]
    },
    {
     "name": "stderr",
     "output_type": "stream",
     "text": [
      "\n"
     ]
    },
    {
     "name": "stdout",
     "output_type": "stream",
     "text": [
      "...texts truncated!\n",
      "Etracting entities...\n",
      "...entities extracted!\n",
      "Perturbating texts...\n"
     ]
    },
    {
     "name": "stderr",
     "output_type": "stream",
     "text": [
      "100%|██████████| 208/208 [00:00<00:00, 24860.80it/s]"
     ]
    },
    {
     "name": "stdout",
     "output_type": "stream",
     "text": [
      "...texts perturbated!\n",
      "../data/processed/country/twittercovidq2_train.csv created\n",
      "\n",
      "\n",
      "Processing ../data/raw/unifiedm2/propaganda_train.csv\n",
      "Truncating texts...\n"
     ]
    },
    {
     "name": "stderr",
     "output_type": "stream",
     "text": [
      "\n"
     ]
    },
    {
     "name": "stdout",
     "output_type": "stream",
     "text": [
      "...texts truncated!\n",
      "Etracting entities...\n",
      "...entities extracted!\n",
      "Perturbating texts...\n"
     ]
    },
    {
     "name": "stderr",
     "output_type": "stream",
     "text": [
      "100%|██████████| 1294/1294 [00:00<00:00, 52488.63it/s]"
     ]
    },
    {
     "name": "stdout",
     "output_type": "stream",
     "text": [
      "...texts perturbated!\n",
      "../data/processed/country/propaganda_train.csv created\n",
      "\n",
      "\n",
      "Processing ../data/raw/unifiedm2/buzzfeed_test.csv\n",
      "Truncating texts...\n",
      "...texts truncated!\n",
      "Etracting entities...\n"
     ]
    },
    {
     "name": "stderr",
     "output_type": "stream",
     "text": [
      "\n"
     ]
    },
    {
     "name": "stdout",
     "output_type": "stream",
     "text": [
      "...entities extracted!\n",
      "Perturbating texts...\n"
     ]
    },
    {
     "name": "stderr",
     "output_type": "stream",
     "text": [
      "100%|██████████| 34/34 [00:00<00:00, 43960.03it/s]\n"
     ]
    },
    {
     "name": "stdout",
     "output_type": "stream",
     "text": [
      "...texts perturbated!\n",
      "../data/processed/country/buzzfeed_test.csv created\n",
      "\n",
      "\n",
      "Processing ../data/raw/unifiedm2/propaganda_test.csv\n",
      "Truncating texts...\n",
      "...texts truncated!\n",
      "Etracting entities...\n",
      "...entities extracted!\n",
      "Perturbating texts...\n"
     ]
    },
    {
     "name": "stderr",
     "output_type": "stream",
     "text": [
      "100%|██████████| 324/324 [00:00<00:00, 44792.33it/s]"
     ]
    },
    {
     "name": "stdout",
     "output_type": "stream",
     "text": [
      "...texts perturbated!\n",
      "../data/processed/country/propaganda_test.csv created\n",
      "\n",
      "\n",
      "Processing ../data/raw/unifiedm2/pheme_train.csv\n",
      "Truncating texts...\n"
     ]
    },
    {
     "name": "stderr",
     "output_type": "stream",
     "text": [
      "\n"
     ]
    },
    {
     "name": "stdout",
     "output_type": "stream",
     "text": [
      "...texts truncated!\n",
      "Etracting entities...\n",
      "...entities extracted!\n",
      "Perturbating texts...\n"
     ]
    },
    {
     "name": "stderr",
     "output_type": "stream",
     "text": [
      "100%|██████████| 1364/1364 [00:00<00:00, 75276.72it/s]"
     ]
    },
    {
     "name": "stdout",
     "output_type": "stream",
     "text": [
      "...texts perturbated!\n",
      "../data/processed/country/pheme_train.csv created\n",
      "\n",
      "\n",
      "Processing ../data/raw/unifiedm2/pheme_test.csv\n",
      "Truncating texts...\n"
     ]
    },
    {
     "name": "stderr",
     "output_type": "stream",
     "text": [
      "\n"
     ]
    },
    {
     "name": "stdout",
     "output_type": "stream",
     "text": [
      "...texts truncated!\n",
      "Etracting entities...\n",
      "...entities extracted!\n",
      "Perturbating texts...\n"
     ]
    },
    {
     "name": "stderr",
     "output_type": "stream",
     "text": [
      "100%|██████████| 341/341 [00:00<00:00, 74345.44it/s]"
     ]
    },
    {
     "name": "stdout",
     "output_type": "stream",
     "text": [
      "...texts perturbated!\n",
      "../data/processed/country/pheme_test.csv created\n",
      "\n",
      "\n",
      "Processing ../data/raw/unifiedm2/webis_test.csv\n",
      "Truncating texts...\n"
     ]
    },
    {
     "name": "stderr",
     "output_type": "stream",
     "text": [
      "\n"
     ]
    },
    {
     "name": "stdout",
     "output_type": "stream",
     "text": [
      "...texts truncated!\n",
      "Etracting entities...\n",
      "...entities extracted!\n",
      "Perturbating texts...\n"
     ]
    },
    {
     "name": "stderr",
     "output_type": "stream",
     "text": [
      "100%|██████████| 321/321 [00:00<00:00, 23561.86it/s]"
     ]
    },
    {
     "name": "stdout",
     "output_type": "stream",
     "text": [
      "...texts perturbated!\n",
      "../data/processed/country/webis_test.csv created\n",
      "\n",
      "\n",
      "Processing ../data/raw/unifiedm2/clickbait_train.csv\n",
      "Truncating texts...\n"
     ]
    },
    {
     "name": "stderr",
     "output_type": "stream",
     "text": [
      "\n"
     ]
    },
    {
     "name": "stdout",
     "output_type": "stream",
     "text": [
      "...texts truncated!\n",
      "Etracting entities...\n",
      "...entities extracted!\n",
      "Perturbating texts...\n"
     ]
    },
    {
     "name": "stderr",
     "output_type": "stream",
     "text": [
      "100%|██████████| 15244/15244 [00:00<00:00, 67465.68it/s]\n"
     ]
    },
    {
     "name": "stdout",
     "output_type": "stream",
     "text": [
      "...texts perturbated!\n",
      "../data/processed/country/clickbait_train.csv created\n",
      "\n",
      "\n",
      "Processing ../data/raw/unifiedm2/politifact_test.csv\n",
      "Truncating texts...\n",
      "...texts truncated!\n",
      "Etracting entities...\n",
      "...entities extracted!\n",
      "Perturbating texts...\n"
     ]
    },
    {
     "name": "stderr",
     "output_type": "stream",
     "text": [
      "100%|██████████| 40/40 [00:00<00:00, 23957.18it/s]"
     ]
    },
    {
     "name": "stdout",
     "output_type": "stream",
     "text": [
      "...texts perturbated!\n",
      "../data/processed/country/politifact_test.csv created\n",
      "\n",
      "\n",
      "Processing ../data/raw/shadesoftruth copy/shadesoftruth_test.csv\n",
      "Truncating texts...\n"
     ]
    },
    {
     "name": "stderr",
     "output_type": "stream",
     "text": [
      "\n"
     ]
    },
    {
     "name": "stdout",
     "output_type": "stream",
     "text": [
      "...texts truncated!\n",
      "Etracting entities...\n",
      "...entities extracted!\n",
      "Perturbating texts...\n"
     ]
    },
    {
     "name": "stderr",
     "output_type": "stream",
     "text": [
      "100%|██████████| 1600/1600 [00:00<00:00, 28573.99it/s]"
     ]
    },
    {
     "name": "stdout",
     "output_type": "stream",
     "text": [
      "...texts perturbated!\n",
      "../data/processed/country/shadesoftruth_test.csv created\n",
      "\n",
      "\n"
     ]
    },
    {
     "name": "stderr",
     "output_type": "stream",
     "text": [
      "\n"
     ]
    },
    {
     "name": "stdout",
     "output_type": "stream",
     "text": [
      "Processing ../data/raw/shadesoftruth copy/shadesoftruth_train.csv\n",
      "Truncating texts...\n",
      "...texts truncated!\n",
      "Etracting entities...\n",
      "...entities extracted!\n",
      "Perturbating texts...\n"
     ]
    },
    {
     "name": "stderr",
     "output_type": "stream",
     "text": [
      "100%|██████████| 6400/6400 [00:00<00:00, 27185.48it/s]\n"
     ]
    },
    {
     "name": "stdout",
     "output_type": "stream",
     "text": [
      "...texts perturbated!\n",
      "../data/processed/country/shadesoftruth_train.csv created\n",
      "\n",
      "\n",
      "Processing ../data/raw/fingerprints copy/fingerprints_train.csv\n",
      "Truncating texts...\n",
      "...texts truncated!\n",
      "Etracting entities...\n",
      "...entities extracted!\n",
      "Perturbating texts...\n"
     ]
    },
    {
     "name": "stderr",
     "output_type": "stream",
     "text": [
      "100%|██████████| 13200/13200 [00:00<00:00, 51484.43it/s]\n"
     ]
    },
    {
     "name": "stdout",
     "output_type": "stream",
     "text": [
      "...texts perturbated!\n",
      "../data/processed/religion/fingerprints_train.csv created\n",
      "\n",
      "\n",
      "Processing ../data/raw/fingerprints copy/fingerprints_test.csv\n",
      "Truncating texts...\n",
      "...texts truncated!\n",
      "Etracting entities...\n",
      "...entities extracted!\n",
      "Perturbating texts...\n"
     ]
    },
    {
     "name": "stderr",
     "output_type": "stream",
     "text": [
      "100%|██████████| 3300/3300 [00:00<00:00, 47087.41it/s]"
     ]
    },
    {
     "name": "stdout",
     "output_type": "stream",
     "text": [
      "...texts perturbated!\n",
      "../data/processed/religion/fingerprints_test.csv created\n",
      "\n",
      "\n",
      "Processing ../data/raw/clef22 copy/clef22_train.csv\n",
      "Truncating texts...\n"
     ]
    },
    {
     "name": "stderr",
     "output_type": "stream",
     "text": [
      "\n"
     ]
    },
    {
     "name": "stdout",
     "output_type": "stream",
     "text": [
      "...texts truncated!\n",
      "Etracting entities...\n",
      "...entities extracted!\n",
      "Perturbating texts...\n"
     ]
    },
    {
     "name": "stderr",
     "output_type": "stream",
     "text": [
      "100%|██████████| 720/720 [00:00<00:00, 97428.66it/s]"
     ]
    },
    {
     "name": "stdout",
     "output_type": "stream",
     "text": [
      "...texts perturbated!\n",
      "../data/processed/religion/clef22_train.csv created\n",
      "\n",
      "\n",
      "Processing ../data/raw/clef22 copy/clef22_test.csv\n",
      "Truncating texts...\n"
     ]
    },
    {
     "name": "stderr",
     "output_type": "stream",
     "text": [
      "\n"
     ]
    },
    {
     "name": "stdout",
     "output_type": "stream",
     "text": [
      "...texts truncated!\n",
      "Etracting entities...\n",
      "...entities extracted!\n",
      "Perturbating texts...\n"
     ]
    },
    {
     "name": "stderr",
     "output_type": "stream",
     "text": [
      "100%|██████████| 180/180 [00:00<00:00, 82727.89it/s]"
     ]
    },
    {
     "name": "stdout",
     "output_type": "stream",
     "text": [
      "...texts perturbated!\n",
      "../data/processed/religion/clef22_test.csv created\n",
      "\n",
      "\n",
      "Processing ../data/raw/unifiedm2/twittercovidq2_test.csv\n",
      "Truncating texts...\n",
      "...texts truncated!\n",
      "Etracting entities...\n"
     ]
    },
    {
     "name": "stderr",
     "output_type": "stream",
     "text": [
      "\n"
     ]
    },
    {
     "name": "stdout",
     "output_type": "stream",
     "text": [
      "...entities extracted!\n",
      "Perturbating texts...\n"
     ]
    },
    {
     "name": "stderr",
     "output_type": "stream",
     "text": [
      "100%|██████████| 52/52 [00:00<00:00, 125780.74it/s]"
     ]
    },
    {
     "name": "stdout",
     "output_type": "stream",
     "text": [
      "...texts perturbated!\n",
      "../data/processed/religion/twittercovidq2_test.csv created\n",
      "\n",
      "\n",
      "Processing ../data/raw/unifiedm2/basil_train.csv\n",
      "Truncating texts...\n"
     ]
    },
    {
     "name": "stderr",
     "output_type": "stream",
     "text": [
      "\n"
     ]
    },
    {
     "name": "stdout",
     "output_type": "stream",
     "text": [
      "...texts truncated!\n",
      "Etracting entities...\n",
      "...entities extracted!\n",
      "Perturbating texts...\n"
     ]
    },
    {
     "name": "stderr",
     "output_type": "stream",
     "text": [
      "100%|██████████| 6367/6367 [00:00<00:00, 413667.51it/s]"
     ]
    },
    {
     "name": "stdout",
     "output_type": "stream",
     "text": [
      "...texts perturbated!\n",
      "../data/processed/religion/basil_train.csv created\n",
      "\n",
      "\n",
      "Processing ../data/raw/unifiedm2/clickbait_test.csv\n",
      "Truncating texts...\n"
     ]
    },
    {
     "name": "stderr",
     "output_type": "stream",
     "text": [
      "\n"
     ]
    },
    {
     "name": "stdout",
     "output_type": "stream",
     "text": [
      "...texts truncated!\n",
      "Etracting entities...\n",
      "...entities extracted!\n",
      "Perturbating texts...\n"
     ]
    },
    {
     "name": "stderr",
     "output_type": "stream",
     "text": [
      "100%|██████████| 3812/3812 [00:00<00:00, 307462.92it/s]"
     ]
    },
    {
     "name": "stdout",
     "output_type": "stream",
     "text": [
      "...texts perturbated!\n",
      "../data/processed/religion/clickbait_test.csv created\n",
      "\n",
      "\n",
      "Processing ../data/raw/unifiedm2/basil_test.csv\n",
      "Truncating texts...\n"
     ]
    },
    {
     "name": "stderr",
     "output_type": "stream",
     "text": [
      "\n"
     ]
    },
    {
     "name": "stdout",
     "output_type": "stream",
     "text": [
      "...texts truncated!\n",
      "Etracting entities...\n",
      "...entities extracted!\n",
      "Perturbating texts...\n"
     ]
    },
    {
     "name": "stderr",
     "output_type": "stream",
     "text": [
      "100%|██████████| 1592/1592 [00:00<00:00, 756295.39it/s]"
     ]
    },
    {
     "name": "stdout",
     "output_type": "stream",
     "text": [
      "...texts perturbated!\n",
      "../data/processed/religion/basil_test.csv created\n",
      "\n",
      "\n",
      "Processing ../data/raw/unifiedm2/politifact_train.csv\n",
      "Truncating texts...\n"
     ]
    },
    {
     "name": "stderr",
     "output_type": "stream",
     "text": [
      "\n"
     ]
    },
    {
     "name": "stdout",
     "output_type": "stream",
     "text": [
      "...texts truncated!\n",
      "Etracting entities...\n",
      "...entities extracted!\n",
      "Perturbating texts...\n"
     ]
    },
    {
     "name": "stderr",
     "output_type": "stream",
     "text": [
      "100%|██████████| 162/162 [00:00<00:00, 50220.05it/s]"
     ]
    },
    {
     "name": "stdout",
     "output_type": "stream",
     "text": [
      "...texts perturbated!\n",
      "../data/processed/religion/politifact_train.csv created\n",
      "\n",
      "\n",
      "Processing ../data/raw/unifiedm2/webis_train.csv\n",
      "Truncating texts...\n"
     ]
    },
    {
     "name": "stderr",
     "output_type": "stream",
     "text": [
      "\n"
     ]
    },
    {
     "name": "stdout",
     "output_type": "stream",
     "text": [
      "...texts truncated!\n",
      "Etracting entities...\n",
      "...entities extracted!\n",
      "Perturbating texts...\n"
     ]
    },
    {
     "name": "stderr",
     "output_type": "stream",
     "text": [
      "100%|██████████| 1283/1283 [00:00<00:00, 73865.07it/s]"
     ]
    },
    {
     "name": "stdout",
     "output_type": "stream",
     "text": [
      "...texts perturbated!\n",
      "../data/processed/religion/webis_train.csv created\n",
      "\n",
      "\n",
      "Processing ../data/raw/unifiedm2/buzzfeed_train.csv\n",
      "Truncating texts...\n",
      "...texts truncated!\n",
      "Etracting entities...\n"
     ]
    },
    {
     "name": "stderr",
     "output_type": "stream",
     "text": [
      "\n"
     ]
    },
    {
     "name": "stdout",
     "output_type": "stream",
     "text": [
      "...entities extracted!\n",
      "Perturbating texts...\n"
     ]
    },
    {
     "name": "stderr",
     "output_type": "stream",
     "text": [
      "100%|██████████| 136/136 [00:00<00:00, 103940.48it/s]"
     ]
    },
    {
     "name": "stdout",
     "output_type": "stream",
     "text": [
      "...texts perturbated!\n",
      "../data/processed/religion/buzzfeed_train.csv created\n",
      "\n",
      "\n",
      "Processing ../data/raw/unifiedm2/twittercovidq2_train.csv\n",
      "Truncating texts...\n"
     ]
    },
    {
     "name": "stderr",
     "output_type": "stream",
     "text": [
      "\n"
     ]
    },
    {
     "name": "stdout",
     "output_type": "stream",
     "text": [
      "...texts truncated!\n",
      "Etracting entities...\n",
      "...entities extracted!\n",
      "Perturbating texts...\n"
     ]
    },
    {
     "name": "stderr",
     "output_type": "stream",
     "text": [
      "100%|██████████| 208/208 [00:00<00:00, 108576.88it/s]"
     ]
    },
    {
     "name": "stdout",
     "output_type": "stream",
     "text": [
      "...texts perturbated!\n",
      "../data/processed/religion/twittercovidq2_train.csv created\n",
      "\n",
      "\n",
      "Processing ../data/raw/unifiedm2/propaganda_train.csv\n",
      "Truncating texts...\n"
     ]
    },
    {
     "name": "stderr",
     "output_type": "stream",
     "text": [
      "\n"
     ]
    },
    {
     "name": "stdout",
     "output_type": "stream",
     "text": [
      "...texts truncated!\n",
      "Etracting entities...\n",
      "...entities extracted!\n",
      "Perturbating texts...\n"
     ]
    },
    {
     "name": "stderr",
     "output_type": "stream",
     "text": [
      "100%|██████████| 1294/1294 [00:00<00:00, 74623.33it/s]"
     ]
    },
    {
     "name": "stdout",
     "output_type": "stream",
     "text": [
      "...texts perturbated!\n",
      "../data/processed/religion/propaganda_train.csv created\n",
      "\n",
      "\n",
      "Processing ../data/raw/unifiedm2/buzzfeed_test.csv\n",
      "Truncating texts...\n",
      "...texts truncated!\n",
      "Etracting entities...\n"
     ]
    },
    {
     "name": "stderr",
     "output_type": "stream",
     "text": [
      "\n"
     ]
    },
    {
     "name": "stdout",
     "output_type": "stream",
     "text": [
      "...entities extracted!\n",
      "Perturbating texts...\n"
     ]
    },
    {
     "name": "stderr",
     "output_type": "stream",
     "text": [
      "100%|██████████| 34/34 [00:00<00:00, 65808.18it/s]\n"
     ]
    },
    {
     "name": "stdout",
     "output_type": "stream",
     "text": [
      "...texts perturbated!\n",
      "../data/processed/religion/buzzfeed_test.csv created\n",
      "\n",
      "\n",
      "Processing ../data/raw/unifiedm2/propaganda_test.csv\n",
      "Truncating texts...\n",
      "...texts truncated!\n",
      "Etracting entities...\n",
      "...entities extracted!\n",
      "Perturbating texts...\n"
     ]
    },
    {
     "name": "stderr",
     "output_type": "stream",
     "text": [
      "100%|██████████| 324/324 [00:00<00:00, 83177.53it/s]"
     ]
    },
    {
     "name": "stdout",
     "output_type": "stream",
     "text": [
      "...texts perturbated!\n",
      "../data/processed/religion/propaganda_test.csv created\n",
      "\n",
      "\n",
      "Processing ../data/raw/unifiedm2/pheme_train.csv\n",
      "Truncating texts...\n"
     ]
    },
    {
     "name": "stderr",
     "output_type": "stream",
     "text": [
      "\n"
     ]
    },
    {
     "name": "stdout",
     "output_type": "stream",
     "text": [
      "...texts truncated!\n",
      "Etracting entities...\n",
      "...entities extracted!\n",
      "Perturbating texts...\n"
     ]
    },
    {
     "name": "stderr",
     "output_type": "stream",
     "text": [
      "100%|██████████| 1364/1364 [00:00<00:00, 176940.92it/s]"
     ]
    },
    {
     "name": "stdout",
     "output_type": "stream",
     "text": [
      "...texts perturbated!\n",
      "../data/processed/religion/pheme_train.csv created\n",
      "\n",
      "\n",
      "Processing ../data/raw/unifiedm2/pheme_test.csv\n",
      "Truncating texts...\n"
     ]
    },
    {
     "name": "stderr",
     "output_type": "stream",
     "text": [
      "\n"
     ]
    },
    {
     "name": "stdout",
     "output_type": "stream",
     "text": [
      "...texts truncated!\n",
      "Etracting entities...\n",
      "...entities extracted!\n",
      "Perturbating texts...\n"
     ]
    },
    {
     "name": "stderr",
     "output_type": "stream",
     "text": [
      "100%|██████████| 341/341 [00:00<00:00, 141989.24it/s]"
     ]
    },
    {
     "name": "stdout",
     "output_type": "stream",
     "text": [
      "...texts perturbated!\n",
      "../data/processed/religion/pheme_test.csv created\n",
      "\n",
      "\n",
      "Processing ../data/raw/unifiedm2/webis_test.csv\n",
      "Truncating texts...\n"
     ]
    },
    {
     "name": "stderr",
     "output_type": "stream",
     "text": [
      "\n"
     ]
    },
    {
     "name": "stdout",
     "output_type": "stream",
     "text": [
      "...texts truncated!\n",
      "Etracting entities...\n",
      "...entities extracted!\n",
      "Perturbating texts...\n"
     ]
    },
    {
     "name": "stderr",
     "output_type": "stream",
     "text": [
      "100%|██████████| 321/321 [00:00<00:00, 95076.02it/s]"
     ]
    },
    {
     "name": "stdout",
     "output_type": "stream",
     "text": [
      "...texts perturbated!\n",
      "../data/processed/religion/webis_test.csv created\n",
      "\n",
      "\n",
      "Processing ../data/raw/unifiedm2/clickbait_train.csv\n",
      "Truncating texts...\n"
     ]
    },
    {
     "name": "stderr",
     "output_type": "stream",
     "text": [
      "\n"
     ]
    },
    {
     "name": "stdout",
     "output_type": "stream",
     "text": [
      "...texts truncated!\n",
      "Etracting entities...\n",
      "...entities extracted!\n",
      "Perturbating texts...\n"
     ]
    },
    {
     "name": "stderr",
     "output_type": "stream",
     "text": [
      "100%|██████████| 15244/15244 [00:00<00:00, 270028.85it/s]"
     ]
    },
    {
     "name": "stdout",
     "output_type": "stream",
     "text": [
      "...texts perturbated!\n",
      "../data/processed/religion/clickbait_train.csv created\n",
      "\n",
      "\n",
      "Processing ../data/raw/unifiedm2/politifact_test.csv\n",
      "Truncating texts...\n"
     ]
    },
    {
     "name": "stderr",
     "output_type": "stream",
     "text": [
      "\n"
     ]
    },
    {
     "name": "stdout",
     "output_type": "stream",
     "text": [
      "...texts truncated!\n",
      "Etracting entities...\n",
      "...entities extracted!\n",
      "Perturbating texts...\n"
     ]
    },
    {
     "name": "stderr",
     "output_type": "stream",
     "text": [
      "100%|██████████| 40/40 [00:00<00:00, 47087.33it/s]"
     ]
    },
    {
     "name": "stdout",
     "output_type": "stream",
     "text": [
      "...texts perturbated!\n",
      "../data/processed/religion/politifact_test.csv created\n",
      "\n",
      "\n",
      "Processing ../data/raw/shadesoftruth copy/shadesoftruth_test.csv\n",
      "Truncating texts...\n"
     ]
    },
    {
     "name": "stderr",
     "output_type": "stream",
     "text": [
      "\n"
     ]
    },
    {
     "name": "stdout",
     "output_type": "stream",
     "text": [
      "...texts truncated!\n",
      "Etracting entities...\n",
      "...entities extracted!\n",
      "Perturbating texts...\n"
     ]
    },
    {
     "name": "stderr",
     "output_type": "stream",
     "text": [
      "100%|██████████| 1600/1600 [00:00<00:00, 37672.61it/s]"
     ]
    },
    {
     "name": "stdout",
     "output_type": "stream",
     "text": [
      "...texts perturbated!\n",
      "../data/processed/religion/shadesoftruth_test.csv created\n",
      "\n",
      "\n"
     ]
    },
    {
     "name": "stderr",
     "output_type": "stream",
     "text": [
      "\n"
     ]
    },
    {
     "name": "stdout",
     "output_type": "stream",
     "text": [
      "Processing ../data/raw/shadesoftruth copy/shadesoftruth_train.csv\n",
      "Truncating texts...\n",
      "...texts truncated!\n",
      "Etracting entities...\n",
      "...entities extracted!\n",
      "Perturbating texts...\n"
     ]
    },
    {
     "name": "stderr",
     "output_type": "stream",
     "text": [
      "100%|██████████| 6400/6400 [00:00<00:00, 47323.33it/s]"
     ]
    },
    {
     "name": "stdout",
     "output_type": "stream",
     "text": [
      "...texts perturbated!\n"
     ]
    },
    {
     "name": "stderr",
     "output_type": "stream",
     "text": [
      "\n"
     ]
    },
    {
     "name": "stdout",
     "output_type": "stream",
     "text": [
      "../data/processed/religion/shadesoftruth_train.csv created\n",
      "\n",
      "\n"
     ]
    }
   ],
   "source": [
    "for dimension in dimensions:\n",
    "    target_entities = pd.read_csv(f\"../../heterogeneity/lists_for_perturbations/{dimension}_swaps.csv\")\n",
    "    for path in data_paths:\n",
    "\n",
    "        path2check = f'{PROCESSED_PATH}{os.sep}{dimension}{os.sep}{path.split(\"/\")[-1]}'\n",
    "        if os.path.exists(path2check):\n",
    "            print(f\"Already exists file: {path2check}. Skip.\")\n",
    "            continue\n",
    "\n",
    "        data = pd.read_csv(path).dropna()\n",
    "\n",
    "        print(f\"Processing {path}\")\n",
    "\n",
    "        print(\"Truncating texts...\")\n",
    "        data['text'] = data.apply(\n",
    "        lambda row: tokenizer.batch_decode(\n",
    "            tokenizer(\n",
    "                row.text,\n",
    "                return_tensors=\"pt\",\n",
    "                max_length=128,\n",
    "                truncation=True,\n",
    "            )[\"input_ids\"],\n",
    "        skip_special_tokens=True\n",
    "        )[0],\n",
    "        axis = 1\n",
    "        )\n",
    "        print(\"...texts truncated!\")\n",
    "\n",
    "        print(\"Etracting entities...\")\n",
    "        entities = []\n",
    "        for row in data[\"text\"].to_list():\n",
    "            entity = preprocess_text(row, target_entities)\n",
    "            entities.append(entity)\n",
    "        data[\"entity\"] = entities\n",
    "        print(\"...entities extracted!\")\n",
    "\n",
    "        print(\"Perturbating texts...\")\n",
    "        text_input = data[\"text\"].to_list()\n",
    "        entities = data[\"entity\"].to_list()\n",
    "        perturbed_texts = []\n",
    "        for input, entity in zip(tqdm(text_input, total=len(text_input)), entities):\n",
    "            if entity:\n",
    "                perturbed_texts.append(replace_entity(input, entity, target_entities, target_entities.keys()[0], target_entities.keys()[1]))\n",
    "            else:\n",
    "                perturbed_texts.append(input)\n",
    "        data['perturbed_text'] = perturbed_texts\n",
    "        data = data[[\"text\", \"perturbed_text\", \"entity\", \"labels\"]]\n",
    "\n",
    "        print(\"...texts perturbated!\")\n",
    "\n",
    "        if not os.path.exists(f\"{PROCESSED_PATH}{os.sep}{dimension}\"):\n",
    "            os.mkdir(f\"{PROCESSED_PATH}{os.sep}{dimension}\")\n",
    "\n",
    "        data_path = f\"{PROCESSED_PATH}{os.sep}{dimension}{os.sep}{path.split('/')[-1]}\"\n",
    "        data.to_csv(data_path, index=False, header=True, encoding=\"utf-8\")\n",
    "        print(f\"{data_path} created\")\n",
    "        print(\"\\n\")"
   ]
  }
 ],
 "metadata": {
  "kernelspec": {
   "display_name": "misinfo_bias",
   "language": "python",
   "name": "python3"
  },
  "language_info": {
   "codemirror_mode": {
    "name": "ipython",
    "version": 3
   },
   "file_extension": ".py",
   "mimetype": "text/x-python",
   "name": "python",
   "nbconvert_exporter": "python",
   "pygments_lexer": "ipython3",
   "version": "3.9.16"
  },
  "orig_nbformat": 4
 },
 "nbformat": 4,
 "nbformat_minor": 2
}
